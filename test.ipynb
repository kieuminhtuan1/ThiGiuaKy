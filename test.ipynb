{
 "cells": [
  {
   "cell_type": "code",
   "execution_count": 1,
   "metadata": {},
   "outputs": [],
   "source": [
    "import requests"
   ]
  },
  {
   "cell_type": "code",
   "execution_count": 2,
   "metadata": {},
   "outputs": [
    {
     "data": {
      "text/plain": [
       "{'query': 'Hội nghị cấp khoa?',\n",
       " 'result': {'id': '5bb962f5-fd5d-4182-8cc6-51f5f51c89b2',\n",
       "  'payload': {'content': 'Gửi thầy cô,\\nBộ môn Khoa học Dữ liệu tổ chức seminar môn học Thị giác Máy tính với thông tin như sau:\\n\\nThời gian: 21h, thứ 4 ngày 6/7/2022\\nHình thức: Trực tuyến qua zoom (527 156 1289 / 310953)\\nChủ trì: PGS.TS.Huỳnh Trung Hiếu\\n\\nMời quý thầy/cô quan tâm, thu xếp thời gian tham dự.\\n',\n",
       "   'date': '06-07-2022',\n",
       "   'href': 'news.html@detail@102@2945@Seminar-Thi-Giac-May-Tinh',\n",
       "   'status': 'new',\n",
       "   'title': 'Seminar Thị Giác Máy Tính'},\n",
       "  'score': 0.006241882,\n",
       "  'shard_key': None,\n",
       "  'vector': None,\n",
       "  'version': 10},\n",
       " 'status': 'success'}"
      ]
     },
     "execution_count": 2,
     "metadata": {},
     "output_type": "execute_result"
    }
   ],
   "source": [
    "url = \"http://localhost:8989\"\n",
    "response = requests.post(f\"{url}/search\", json = {\"query\": \"Hội nghị cấp khoa?\"})\n",
    "response.json()"
   ]
  },
  {
   "cell_type": "code",
   "execution_count": null,
   "metadata": {},
   "outputs": [],
   "source": []
  }
 ],
 "metadata": {
  "kernelspec": {
   "display_name": "Python 3",
   "language": "python",
   "name": "python3"
  },
  "language_info": {
   "codemirror_mode": {
    "name": "ipython",
    "version": 3
   },
   "file_extension": ".py",
   "mimetype": "text/x-python",
   "name": "python",
   "nbconvert_exporter": "python",
   "pygments_lexer": "ipython3",
   "version": "3.11.5"
  }
 },
 "nbformat": 4,
 "nbformat_minor": 2
}
