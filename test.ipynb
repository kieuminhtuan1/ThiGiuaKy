{
 "cells": [
  {
   "cell_type": "code",
   "execution_count": 1,
   "metadata": {},
   "outputs": [],
   "source": [
    "import requests"
   ]
  },
  {
   "cell_type": "code",
   "execution_count": 2,
   "metadata": {},
   "outputs": [
    {
     "data": {
      "text/plain": [
       "{'query': 'Hội nghị cấp khoa?',\n",
       " 'result': {'id': 'a296788f-b5da-454b-afd6-06ea21f833f9',\n",
       "  'payload': {'content': 'THÔNG BÁO & ĐĂNG KÝ WEBINAR\\nKINH NGHIỆM PHÁT TRIỂN PHONG TRÀO SINH VIÊN NGHIÊN CỨU KHOA HỌC\\r\\nHƯỚNG ĐẾN HỘI NGHỊ KHOA HỌC TRẺ IUH (YSC) VÀ GIẢI THƯỞNG EUREKA\\nVới định hướng phát triển đào tạo kết hợp nghiên cứu triển khai khoa học ứng dụng, bộ môn Khoa học Dữ liệu thuộc Khoa CNTT luôn chú trọng nhiệm vụ nghiên cứu khoa học của giảng viên và trách nhiệm phát triển phong trào nghiên cứu khoa học sinh viên. Sau 3 năm thành lập, bộ môn đã có những bước đi vững chắc với các thành tích rất khởi sắc. Nhằm chia sẻ kinh nghiệm đến giảng viên và phát động phong trào sinh viên NCKH, bộ môn KHDL có kế hoạch tổ chức Webinar với hai mục tiêu:\\n\\xa0(1) Cổ vũ, khích lệ và truyền động lực giúp sinh viên tham gia nghiên cứu khoa học nhằm rèn luyện thói quen tự học ở bậc đại học và khả năng học sâu, giải quyết vấn đề thấu đáo.\\n(2) Chia sẻ kinh nghiệm và truyền cảm hứng đến giảng viên để phát triển mạnh mẽ đội ngũ giảng viên tham gia định hướng, cố vấn, dẫn dắt sinh viên nghiên cứu khoa học sớm.\\nWebinar sẽ diễn ra TRỰC TUYẾN trên zoom 929 8309 3189 (pass 734901)\\xa0 vào lúc 20:00 thứ 2 ngày 17/4/2023, mời thầy/cô và các bạn sinh viên quan tâm đăng ký tham dự bằng việc điền thông tin vào form ở đây\\n\\xa0\\n\\nThay mặt BTC\\r\\nNguyễn Hữu Tình\\n',\n",
       "   'date': '14-04-2023',\n",
       "   'href': 'news.html@detail@102@3090@Webinar-Dinh-huong-tham-gia-YSC-lan-thu-5-va-Eureka-2023',\n",
       "   'status': 'new',\n",
       "   'title': 'Webinar: Định hướng tham gia YSC lần thứ 5 và Eureka 2023'},\n",
       "  'score': 0.009273873,\n",
       "  'shard_key': None,\n",
       "  'vector': None,\n",
       "  'version': 4},\n",
       " 'status': 'success'}"
      ]
     },
     "execution_count": 2,
     "metadata": {},
     "output_type": "execute_result"
    }
   ],
   "source": [
    "url = \"http://localhost:9951\"\n",
    "response = requests.post(f\"{url}/search\", json = {\"query\": \"Hội nghị cấp khoa?\"})\n",
    "response.json()"
   ]
  }
 ],
 "metadata": {
  "kernelspec": {
   "display_name": "Python 3",
   "language": "python",
   "name": "python3"
  },
  "language_info": {
   "codemirror_mode": {
    "name": "ipython",
    "version": 3
   },
   "file_extension": ".py",
   "mimetype": "text/x-python",
   "name": "python",
   "nbconvert_exporter": "python",
   "pygments_lexer": "ipython3",
   "version": "3.11.5"
  }
 },
 "nbformat": 4,
 "nbformat_minor": 2
}
